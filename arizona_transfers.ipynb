{
 "cells": [
  {
   "cell_type": "code",
   "execution_count": 102,
   "metadata": {},
   "outputs": [],
   "source": [
    "import pandas as pd\n",
    "from collections import defaultdict\n",
    "pd.set_option('display.max_columns', None)\n",
    "pd.set_option('display.max_rows', None)"
   ]
  },
  {
   "cell_type": "code",
   "execution_count": 103,
   "metadata": {},
   "outputs": [],
   "source": [
    "# reading in the waiver tracker data. there are multiple sheets so reading them in in loop and combining into one dataframe\n",
    "# added a year column also\n",
    "waiver_tracker = pd.DataFrame()\n",
    "year = 2018\n",
    "\n",
    "for i in range(2, 8):\n",
    "    temp_df = pd.read_excel('../police-certification/AZ/2023-5-30/2023-7-27 Waivers/Waiver_Tracker_071223.xlsx', sheet_name=i)\n",
    "    temp_df['Year'] = year\n",
    "    if (year == 2018) | (year == 2019) | (year == 2020):\n",
    "        temp_df = temp_df.rename(columns={'Waiver From ':'Waiver From'})\n",
    "    if (year == 2021):\n",
    "        temp_df = temp_df.rename(columns={'Last Name':'Name: Last'})\n",
    "    waiver_tracker = pd.concat([waiver_tracker, temp_df])\n",
    "    year = year + 1"
   ]
  },
  {
   "cell_type": "code",
   "execution_count": 104,
   "metadata": {},
   "outputs": [],
   "source": [
    "waiver_tracker['Waiver From'] = waiver_tracker['Waiver From'].str.strip()"
   ]
  },
  {
   "cell_type": "code",
   "execution_count": 105,
   "metadata": {},
   "outputs": [],
   "source": [
    "waiver_tracker = waiver_tracker[(waiver_tracker['Certified'] != 'No') & (waiver_tracker['Certified'] != 'NO')]"
   ]
  },
  {
   "cell_type": "code",
   "execution_count": 106,
   "metadata": {},
   "outputs": [],
   "source": [
    "# lists of what states are reform states, which are not, and which we need to exclude for now since we are still determining what they should be\n",
    "\n",
    "reform = ['WA/CA', 'CA', 'WA', 'IL', 'OR', 'MN', 'NY', 'NM', 'CO', 'MD', 'MA', 'CT', 'NJ', 'CA-2013', 'IL-2017']\n",
    "not_reform = ['NE/IA', 'NC/FL', 'AK & UT', 'OH, SC', 'WY/UT', 'AL/WI', 'AR & LA', 'TN&FL', 'TN & Air Marshal', 'SD/NB', 'UT', 'TX', 'GA', 'OH', 'PA', 'WI', 'TN', 'NC', 'MO', 'KS', 'AK', 'MI', 'HI', 'NV', 'IN', 'FL', 'VA', 'ID', 'LA', 'SC', 'IA', 'NH', 'SD', 'WY', 'MT', 'KY', 'AR', 'AL', 'NE']\n",
    "exclude_for_now = ['AZ & WA', 'TX & NM', 'HI, CO', 'AZ/Fed', 'KY, MD', 'CA/WY', 'CO & FL', 'NB', 'FL/CO', 'CA&NV', 'Nat. Park Service', 'open enrollee', 'BIA']\n",
    "exclude = ['AZ', 'AZ-OE']           "
   ]
  },
  {
   "cell_type": "code",
   "execution_count": 107,
   "metadata": {},
   "outputs": [],
   "source": [
    "# creating the new column to indicate what kind of state it is in that row (reform state, not reform state, exclude for now, exclude)\n",
    "# using the lists from above to filter the main dataframe for each of those lists, then merging them back together after adding the new column to each of them with the correct value \n",
    "\n",
    "reform_states = waiver_tracker.loc[waiver_tracker['Waiver From'].isin(reform)].copy()\n",
    "reform_states['Reform State Status'] = 'Reform State'\n",
    "\n",
    "not_reform_states = waiver_tracker.loc[waiver_tracker['Waiver From'].isin(not_reform)].copy()\n",
    "not_reform_states['Reform State Status'] = 'Not Reform State'\n",
    "\n",
    "exclude_for_now_states = waiver_tracker.loc[waiver_tracker['Waiver From'].isin(exclude_for_now)].copy()\n",
    "exclude_for_now_states['Reform State Status'] = 'Exclude For Now'\n",
    "\n",
    "exclude_states = waiver_tracker.loc[waiver_tracker['Waiver From'].isin(exclude)].copy()\n",
    "exclude_states['Reform State Status'] = 'Exclude (Arizona)'\n",
    "\n",
    "waiver_tracking_az = pd.concat([reform_states, not_reform_states, exclude_for_now_states, exclude_states])\n",
    "waiver_tracking_az = waiver_tracking_az.sort_values(by='Year')"
   ]
  },
  {
   "cell_type": "code",
   "execution_count": 108,
   "metadata": {},
   "outputs": [],
   "source": [
    "del (reform_states, not_reform_states, exclude_for_now_states, exclude_states)"
   ]
  },
  {
   "cell_type": "code",
   "execution_count": 109,
   "metadata": {},
   "outputs": [],
   "source": [
    "waiver_az_2018 = waiver_tracking_az.loc[waiver_tracking_az['Year'] == 2018].copy()\n",
    "waiver_az_2019 = waiver_tracking_az.loc[waiver_tracking_az['Year'] == 2019].copy()\n",
    "waiver_az_2020 = waiver_tracking_az.loc[waiver_tracking_az['Year'] == 2020].copy()\n",
    "waiver_az_2021 = waiver_tracking_az.loc[waiver_tracking_az['Year'] == 2021].copy()\n",
    "waiver_az_2022 = waiver_tracking_az.loc[waiver_tracking_az['Year'] == 2022].copy()\n",
    "waiver_az_2023 = waiver_tracking_az.loc[waiver_tracking_az['Year'] == 2023].copy()"
   ]
  },
  {
   "cell_type": "code",
   "execution_count": 112,
   "metadata": {},
   "outputs": [],
   "source": [
    "reform_categories_dict = {\n",
    "    'Year': [2018, 2019, 2020, 2021, 2022, 2023],\n",
    "    'Police Reform States': [\n",
    "        waiver_az_2018.value_counts('Reform State Status')['Reform State'],\n",
    "        waiver_az_2019.value_counts('Reform State Status')['Reform State'],\n",
    "        waiver_az_2020.value_counts('Reform State Status')['Reform State'],\n",
    "        waiver_az_2021.value_counts('Reform State Status')['Reform State'],\n",
    "        waiver_az_2022.value_counts('Reform State Status')['Reform State'],\n",
    "        waiver_az_2023.value_counts('Reform State Status')['Reform State']\n",
    "    ],\n",
    "    'Not Police Reform States': [\n",
    "        waiver_az_2018.value_counts('Reform State Status')['Not Reform State'],\n",
    "        waiver_az_2019.value_counts('Reform State Status')['Not Reform State'],\n",
    "        waiver_az_2020.value_counts('Reform State Status')['Not Reform State'],\n",
    "        waiver_az_2021.value_counts('Reform State Status')['Not Reform State'],\n",
    "        waiver_az_2022.value_counts('Reform State Status')['Not Reform State'],\n",
    "        waiver_az_2023.value_counts('Reform State Status')['Not Reform State']\n",
    "    ],\n",
    "    'Exclude (Arizona)': [\n",
    "        waiver_az_2018.value_counts('Reform State Status')['Exclude (Arizona)'],\n",
    "        waiver_az_2019.value_counts('Reform State Status')['Exclude (Arizona)'],\n",
    "        waiver_az_2020.value_counts('Reform State Status')['Exclude (Arizona)'],\n",
    "        waiver_az_2021.value_counts('Reform State Status')['Exclude (Arizona)'],\n",
    "        waiver_az_2022.value_counts('Reform State Status')['Exclude (Arizona)'],\n",
    "        waiver_az_2023.value_counts('Reform State Status')['Exclude (Arizona)']\n",
    "    ]\n",
    "}\n",
    "\n",
    "reform_state_counts = pd.DataFrame.from_dict(reform_categories_dict)"
   ]
  },
  {
   "cell_type": "code",
   "execution_count": 111,
   "metadata": {},
   "outputs": [
    {
     "data": {
      "text/plain": [
       "Reform State Status\n",
       "Not Reform State     30\n",
       "Reform State         26\n",
       "Exclude (Arizona)     7\n",
       "Name: count, dtype: int64"
      ]
     },
     "execution_count": 111,
     "metadata": {},
     "output_type": "execute_result"
    }
   ],
   "source": [
    "waiver_az_2019.value_counts('Reform State Status')"
   ]
  },
  {
   "cell_type": "code",
   "execution_count": 97,
   "metadata": {},
   "outputs": [
    {
     "data": {
      "text/plain": [
       "<Axes: xlabel='Year'>"
      ]
     },
     "execution_count": 97,
     "metadata": {},
     "output_type": "execute_result"
    },
    {
     "data": {
      "image/png": "[encoded data removed]",
      "text/plain": [
       "<Figure size 1080x576 with 1 Axes>"
      ]
     },
     "metadata": {
      "needs_background": "light"
     },
     "output_type": "display_data"
    }
   ],
   "source": [
    "reform_state_counts.plot.bar(x='Year', stacked=True, figsize=(15,8), grid=True)"
   ]
  },
  {
   "cell_type": "code",
   "execution_count": 94,
   "metadata": {},
   "outputs": [
    {
     "data": {
      "text/plain": [
       "Reform State Status\n",
       "Reform State         20\n",
       "Exclude (Arizona)    17\n",
       "Not Reform State     16\n",
       "Exclude For Now       4\n",
       "Name: count, dtype: int64"
      ]
     },
     "execution_count": 94,
     "metadata": {},
     "output_type": "execute_result"
    }
   ],
   "source": [
    "waiver_az_2018.value_counts('Reform State Status')"
   ]
  },
  {
   "cell_type": "code",
   "execution_count": 95,
   "metadata": {},
   "outputs": [
    {
     "data": {
      "text/plain": [
       "Reform State Status\n",
       "Not Reform State     31\n",
       "Reform State         29\n",
       "Exclude (Arizona)     8\n",
       "Exclude For Now       3\n",
       "Name: count, dtype: int64"
      ]
     },
     "execution_count": 95,
     "metadata": {},
     "output_type": "execute_result"
    }
   ],
   "source": [
    "waiver_az_2019.value_counts('Reform State Status')"
   ]
  },
  {
   "cell_type": "code",
   "execution_count": 71,
   "metadata": {},
   "outputs": [
    {
     "data": {
      "text/plain": [
       "Reform State Status\n",
       "Reform State         0.406593\n",
       "Not Reform State     0.373626\n",
       "Exclude (Arizona)    0.142857\n",
       "Exclude For Now      0.076923\n",
       "Name: proportion, dtype: float64"
      ]
     },
     "execution_count": 71,
     "metadata": {},
     "output_type": "execute_result"
    }
   ],
   "source": [
    "waiver_az_2020.value_counts('Reform State Status', normalize=True)"
   ]
  },
  {
   "cell_type": "code",
   "execution_count": 72,
   "metadata": {},
   "outputs": [
    {
     "data": {
      "text/plain": [
       "Reform State Status\n",
       "Reform State         0.611570\n",
       "Not Reform State     0.272727\n",
       "Exclude (Arizona)    0.082645\n",
       "Exclude For Now      0.033058\n",
       "Name: proportion, dtype: float64"
      ]
     },
     "execution_count": 72,
     "metadata": {},
     "output_type": "execute_result"
    }
   ],
   "source": [
    "waiver_az_2021.value_counts('Reform State Status', normalize=True)"
   ]
  },
  {
   "cell_type": "code",
   "execution_count": 73,
   "metadata": {},
   "outputs": [
    {
     "data": {
      "text/plain": [
       "Reform State Status\n",
       "Reform State         0.639456\n",
       "Not Reform State     0.265306\n",
       "Exclude (Arizona)    0.068027\n",
       "Exclude For Now      0.027211\n",
       "Name: proportion, dtype: float64"
      ]
     },
     "execution_count": 73,
     "metadata": {},
     "output_type": "execute_result"
    }
   ],
   "source": [
    "waiver_az_2022.value_counts('Reform State Status', normalize=True)"
   ]
  },
  {
   "cell_type": "code",
   "execution_count": 91,
   "metadata": {},
   "outputs": [
    {
     "data": {
      "text/plain": [
       "Reform State Status\n",
       "Reform State         35\n",
       "Not Reform State     16\n",
       "Exclude (Arizona)     7\n",
       "Exclude For Now       2\n",
       "Name: count, dtype: int64"
      ]
     },
     "execution_count": 91,
     "metadata": {},
     "output_type": "execute_result"
    }
   ],
   "source": [
    "waiver_az_2023.value_counts('Reform State Status')"
   ]
  },
  {
   "cell_type": "code",
   "execution_count": 89,
   "metadata": {},
   "outputs": [
    {
     "data": {
      "text/plain": [
       "<Axes: xlabel='Year', ylabel='Count of Police Reform State Transfers'>"
      ]
     },
     "execution_count": 89,
     "metadata": {},
     "output_type": "execute_result"
    },
    {
     "data": {
      "image/png": "[encoded data removed]",
      "text/plain": [
       "<Figure size 1080x576 with 1 Axes>"
      ]
     },
     "metadata": {
      "needs_background": "light"
     },
     "output_type": "display_data"
    }
   ],
   "source": [
    "reform_counts_by_year = reform_states.value_counts('Year').sort_index(ascending=True)\n",
    "\n",
    "reform_counts_by_year.plot.bar(xlabel='Year', ylabel='Count of Police Reform State Transfers', figsize=(15,8), grid=True)"
   ]
  },
  {
   "cell_type": "code",
   "execution_count": null,
   "metadata": {},
   "outputs": [],
   "source": []
  }
 ],
 "metadata": {
  "kernelspec": {
   "display_name": "General_env",
   "language": "python",
   "name": "python3"
  },
  "language_info": {
   "codemirror_mode": {
    "name": "ipython",
    "version": 3
   },
   "file_extension": ".py",
   "mimetype": "text/x-python",
   "name": "python",
   "nbconvert_exporter": "python",
   "pygments_lexer": "ipython3",
   "version": "3.9.16"
  }
 },
 "nbformat": 4,
 "nbformat_minor": 2
}
